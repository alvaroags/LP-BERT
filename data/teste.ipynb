{
 "cells": [
  {
   "cell_type": "code",
   "execution_count": 1,
   "metadata": {},
   "outputs": [],
   "source": [
    "import pandas as pd"
   ]
  },
  {
   "cell_type": "code",
   "execution_count": 2,
   "metadata": {},
   "outputs": [
    {
     "data": {
      "text/plain": [
       "199"
      ]
     },
     "execution_count": 2,
     "metadata": {},
     "output_type": "execute_result"
    }
   ],
   "source": [
    "df = pd.read_csv('train/train_checkins_Connecticut.csv')\n",
    "df['x'].max()"
   ]
  },
  {
   "cell_type": "code",
   "execution_count": 10,
   "metadata": {},
   "outputs": [
    {
     "data": {
      "text/plain": [
       "93"
      ]
     },
     "execution_count": 10,
     "metadata": {},
     "output_type": "execute_result"
    }
   ],
   "source": [
    "df = pd.read_csv('test/test_checkins_Alaska.csv')\n",
    "df.describe()\n",
    "df2 = df.sample(3000)\n",
    "df3 = df.sample(3000)\n",
    "df['d'].max()\n",
    "df['y'].max()"
   ]
  },
  {
   "cell_type": "code",
   "execution_count": 4,
   "metadata": {},
   "outputs": [
    {
     "data": {
      "text/plain": [
       "15"
      ]
     },
     "execution_count": 4,
     "metadata": {},
     "output_type": "execute_result"
    }
   ],
   "source": [
    "df = pd.read_csv('train/train_checkins_Alaska.csv')\n",
    "df.describe()\n",
    "df2 = df.sample(3000)\n",
    "df3 = df.sample(3000)\n",
    "df['d'].max()"
   ]
  },
  {
   "cell_type": "code",
   "execution_count": 5,
   "metadata": {},
   "outputs": [],
   "source": [
    "df2 = df2.sort_values(by=['uid', 'd', 't'])\n",
    "df2.to_csv(\"./train/sample_train_Alaska.csv\")"
   ]
  },
  {
   "cell_type": "code",
   "execution_count": 6,
   "metadata": {},
   "outputs": [],
   "source": [
    "df3 = df3.sort_values(by=['uid', 'd', 't'])\n",
    "df3.to_csv(\"./test/sample_test_Alaska.csv\")"
   ]
  },
  {
   "cell_type": "code",
   "execution_count": 7,
   "metadata": {},
   "outputs": [
    {
     "data": {
      "text/html": [
       "<div>\n",
       "<style scoped>\n",
       "    .dataframe tbody tr th:only-of-type {\n",
       "        vertical-align: middle;\n",
       "    }\n",
       "\n",
       "    .dataframe tbody tr th {\n",
       "        vertical-align: top;\n",
       "    }\n",
       "\n",
       "    .dataframe thead th {\n",
       "        text-align: right;\n",
       "    }\n",
       "</style>\n",
       "<table border=\"1\" class=\"dataframe\">\n",
       "  <thead>\n",
       "    <tr style=\"text-align: right;\">\n",
       "      <th></th>\n",
       "      <th>Unnamed: 0</th>\n",
       "      <th>uid</th>\n",
       "      <th>t</th>\n",
       "      <th>d</th>\n",
       "      <th>x</th>\n",
       "      <th>y</th>\n",
       "    </tr>\n",
       "  </thead>\n",
       "  <tbody>\n",
       "    <tr>\n",
       "      <th>count</th>\n",
       "      <td>3000.000000</td>\n",
       "      <td>3.000000e+03</td>\n",
       "      <td>3000.000000</td>\n",
       "      <td>3000.000000</td>\n",
       "      <td>3000.000000</td>\n",
       "      <td>3000.000000</td>\n",
       "    </tr>\n",
       "    <tr>\n",
       "      <th>mean</th>\n",
       "      <td>2882.481000</td>\n",
       "      <td>5.751106e+05</td>\n",
       "      <td>18.077667</td>\n",
       "      <td>5.361000</td>\n",
       "      <td>110.523667</td>\n",
       "      <td>41.357667</td>\n",
       "    </tr>\n",
       "    <tr>\n",
       "      <th>std</th>\n",
       "      <td>1650.205711</td>\n",
       "      <td>8.070725e+05</td>\n",
       "      <td>14.214394</td>\n",
       "      <td>4.090182</td>\n",
       "      <td>33.354714</td>\n",
       "      <td>11.693673</td>\n",
       "    </tr>\n",
       "    <tr>\n",
       "      <th>min</th>\n",
       "      <td>3.000000</td>\n",
       "      <td>1.890000e+02</td>\n",
       "      <td>0.000000</td>\n",
       "      <td>1.000000</td>\n",
       "      <td>3.000000</td>\n",
       "      <td>8.000000</td>\n",
       "    </tr>\n",
       "    <tr>\n",
       "      <th>25%</th>\n",
       "      <td>1466.750000</td>\n",
       "      <td>7.347900e+04</td>\n",
       "      <td>5.000000</td>\n",
       "      <td>2.000000</td>\n",
       "      <td>95.000000</td>\n",
       "      <td>41.000000</td>\n",
       "    </tr>\n",
       "    <tr>\n",
       "      <th>50%</th>\n",
       "      <td>2872.500000</td>\n",
       "      <td>2.221650e+05</td>\n",
       "      <td>18.000000</td>\n",
       "      <td>4.000000</td>\n",
       "      <td>96.000000</td>\n",
       "      <td>41.000000</td>\n",
       "    </tr>\n",
       "    <tr>\n",
       "      <th>75%</th>\n",
       "      <td>4268.750000</td>\n",
       "      <td>3.920068e+05</td>\n",
       "      <td>29.000000</td>\n",
       "      <td>8.000000</td>\n",
       "      <td>107.000000</td>\n",
       "      <td>42.000000</td>\n",
       "    </tr>\n",
       "    <tr>\n",
       "      <th>max</th>\n",
       "      <td>5778.000000</td>\n",
       "      <td>2.676824e+06</td>\n",
       "      <td>45.000000</td>\n",
       "      <td>15.000000</td>\n",
       "      <td>199.000000</td>\n",
       "      <td>93.000000</td>\n",
       "    </tr>\n",
       "  </tbody>\n",
       "</table>\n",
       "</div>"
      ],
      "text/plain": [
       "        Unnamed: 0           uid            t            d            x  \\\n",
       "count  3000.000000  3.000000e+03  3000.000000  3000.000000  3000.000000   \n",
       "mean   2882.481000  5.751106e+05    18.077667     5.361000   110.523667   \n",
       "std    1650.205711  8.070725e+05    14.214394     4.090182    33.354714   \n",
       "min       3.000000  1.890000e+02     0.000000     1.000000     3.000000   \n",
       "25%    1466.750000  7.347900e+04     5.000000     2.000000    95.000000   \n",
       "50%    2872.500000  2.221650e+05    18.000000     4.000000    96.000000   \n",
       "75%    4268.750000  3.920068e+05    29.000000     8.000000   107.000000   \n",
       "max    5778.000000  2.676824e+06    45.000000    15.000000   199.000000   \n",
       "\n",
       "                 y  \n",
       "count  3000.000000  \n",
       "mean     41.357667  \n",
       "std      11.693673  \n",
       "min       8.000000  \n",
       "25%      41.000000  \n",
       "50%      41.000000  \n",
       "75%      42.000000  \n",
       "max      93.000000  "
      ]
     },
     "execution_count": 7,
     "metadata": {},
     "output_type": "execute_result"
    }
   ],
   "source": [
    "sampledf = pd.read_csv(\"train/sample_train_Alaska.csv\")\n",
    "sampledf.describe()"
   ]
  }
 ],
 "metadata": {
  "kernelspec": {
   "display_name": "lpbert",
   "language": "python",
   "name": "python3"
  },
  "language_info": {
   "codemirror_mode": {
    "name": "ipython",
    "version": 3
   },
   "file_extension": ".py",
   "mimetype": "text/x-python",
   "name": "python",
   "nbconvert_exporter": "python",
   "pygments_lexer": "ipython3",
   "version": "3.11.8"
  }
 },
 "nbformat": 4,
 "nbformat_minor": 2
}
