{
 "cells": [
  {
   "cell_type": "code",
   "execution_count": 31,
   "metadata": {},
   "outputs": [],
   "source": [
    "import pandas as pd"
   ]
  },
  {
   "cell_type": "code",
   "execution_count": 32,
   "metadata": {},
   "outputs": [
    {
     "data": {
      "text/plain": [
       "2476"
      ]
     },
     "execution_count": 32,
     "metadata": {},
     "output_type": "execute_result"
    }
   ],
   "source": [
    "df = pd.read_csv('train/train2_checkins_Nebraska.csv')\n",
    "len(df)"
   ]
  },
  {
   "cell_type": "code",
   "execution_count": 33,
   "metadata": {},
   "outputs": [
    {
     "name": "stdout",
     "output_type": "stream",
     "text": [
      "39\n"
     ]
    }
   ],
   "source": [
    "num_nunique = df['uid'].nunique()\n",
    "print(num_nunique)"
   ]
  },
  {
   "cell_type": "code",
   "execution_count": 34,
   "metadata": {},
   "outputs": [
    {
     "name": "stdout",
     "output_type": "stream",
     "text": [
      "        uid  counts\n",
      "0      9324     120\n",
      "3     31438     120\n",
      "36  2150760     119\n",
      "30   861702     107\n",
      "5     54414     105\n",
      "31  1195221     104\n",
      "10   137721     102\n",
      "2     13597      95\n",
      "9    125817      91\n",
      "26   303487      89\n",
      "17   217605      88\n",
      "6     55704      87\n",
      "25   291734      80\n",
      "15   174066      72\n",
      "37  2153587      71\n",
      "35  2130033      68\n",
      "4     42003      64\n",
      "33  1327490      60\n",
      "21   252329      57\n",
      "24   263269      54\n",
      "7     76687      51\n",
      "32  1303988      48\n",
      "18   234506      47\n",
      "23   262014      45\n",
      "19   246615      44\n",
      "11   138176      44\n",
      "1     11374      43\n",
      "16   208590      43\n",
      "27   334602      39\n",
      "29   396859      39\n",
      "12   138894      39\n",
      "14   158437      38\n",
      "13   157093      36\n",
      "8     79714      36\n",
      "22   255904      33\n",
      "28   374346      33\n",
      "20   248214      30\n",
      "34  2129847      27\n",
      "38  2157470       8\n"
     ]
    }
   ],
   "source": [
    "count = df.groupby('uid').size().reset_index(name='counts')\n",
    "count_sorted = count.sort_values(by='counts', ascending=False)\n",
    "# count = count_sorted['counts'] > 120\n",
    "# # Imprimir o resultado\n",
    "print(count_sorted)\n",
    "# # Contar o número de registros por usuário\n",
    "# count = df.groupby('uid').size().reset_index(name='counts')\n",
    "\n",
    "# # Filtrar os usuários que têm no máximo 200 registros\n",
    "# filtered_uids = count.query('counts <= 200')['uid']\n",
    "\n",
    "# # Fazer merge com o DataFrame original para obter apenas os dados filtrados\n",
    "# filtered_df = df[df['uid'].isin(filtered_uids)]\n",
    "\n",
    "# # Imprimir o resultado\n",
    "# print(filtered_uids)"
   ]
  },
  {
   "cell_type": "code",
   "execution_count": 35,
   "metadata": {},
   "outputs": [
    {
     "data": {
      "text/plain": [
       "8617"
      ]
     },
     "execution_count": 35,
     "metadata": {},
     "output_type": "execute_result"
    }
   ],
   "source": [
    "df = pd.read_csv('test/test_checkins_Nebraska.csv')\n",
    "len(df)"
   ]
  },
  {
   "cell_type": "code",
   "execution_count": 36,
   "metadata": {},
   "outputs": [
    {
     "data": {
      "text/plain": [
       "45"
      ]
     },
     "execution_count": 36,
     "metadata": {},
     "output_type": "execute_result"
    }
   ],
   "source": [
    "df = pd.read_csv('test/test_checkins_Alaska.csv')\n",
    "df.describe()\n",
    "df2 = df.sample(3000)\n",
    "df3 = df.sample(3000)\n",
    "df['d'].max()\n",
    "df['t'].max()"
   ]
  },
  {
   "cell_type": "code",
   "execution_count": 37,
   "metadata": {},
   "outputs": [
    {
     "data": {
      "text/plain": [
       "45"
      ]
     },
     "execution_count": 37,
     "metadata": {},
     "output_type": "execute_result"
    }
   ],
   "source": [
    "df = pd.read_csv('train/train_checkins_Alaska.csv')\n",
    "df.describe()\n",
    "df2 = df.sample(3000)\n",
    "df3 = df.sample(3000)\n",
    "df['t'].max()"
   ]
  },
  {
   "cell_type": "code",
   "execution_count": 38,
   "metadata": {},
   "outputs": [],
   "source": [
    "df2 = df2.sort_values(by=['uid', 'd', 't'])\n",
    "df2.to_csv(\"./train/sample_train_Alaska.csv\")"
   ]
  },
  {
   "cell_type": "code",
   "execution_count": 39,
   "metadata": {},
   "outputs": [],
   "source": [
    "df3 = df3.sort_values(by=['uid', 'd', 't'])\n",
    "df3.to_csv(\"./test/sample_test_Alaska.csv\")"
   ]
  },
  {
   "cell_type": "code",
   "execution_count": 40,
   "metadata": {},
   "outputs": [
    {
     "data": {
      "text/html": [
       "<div>\n",
       "<style scoped>\n",
       "    .dataframe tbody tr th:only-of-type {\n",
       "        vertical-align: middle;\n",
       "    }\n",
       "\n",
       "    .dataframe tbody tr th {\n",
       "        vertical-align: top;\n",
       "    }\n",
       "\n",
       "    .dataframe thead th {\n",
       "        text-align: right;\n",
       "    }\n",
       "</style>\n",
       "<table border=\"1\" class=\"dataframe\">\n",
       "  <thead>\n",
       "    <tr style=\"text-align: right;\">\n",
       "      <th></th>\n",
       "      <th>Unnamed: 0</th>\n",
       "      <th>uid</th>\n",
       "      <th>t</th>\n",
       "      <th>d</th>\n",
       "      <th>x</th>\n",
       "      <th>y</th>\n",
       "    </tr>\n",
       "  </thead>\n",
       "  <tbody>\n",
       "    <tr>\n",
       "      <th>count</th>\n",
       "      <td>3000.000000</td>\n",
       "      <td>3.000000e+03</td>\n",
       "      <td>3000.000000</td>\n",
       "      <td>3000.000000</td>\n",
       "      <td>3000.000000</td>\n",
       "      <td>3000.000000</td>\n",
       "    </tr>\n",
       "    <tr>\n",
       "      <th>mean</th>\n",
       "      <td>2878.045667</td>\n",
       "      <td>5.851957e+05</td>\n",
       "      <td>18.107667</td>\n",
       "      <td>5.433667</td>\n",
       "      <td>109.519333</td>\n",
       "      <td>41.626000</td>\n",
       "    </tr>\n",
       "    <tr>\n",
       "      <th>std</th>\n",
       "      <td>1669.239878</td>\n",
       "      <td>8.182638e+05</td>\n",
       "      <td>14.335035</td>\n",
       "      <td>4.052622</td>\n",
       "      <td>32.877418</td>\n",
       "      <td>11.615784</td>\n",
       "    </tr>\n",
       "    <tr>\n",
       "      <th>min</th>\n",
       "      <td>1.000000</td>\n",
       "      <td>1.890000e+02</td>\n",
       "      <td>0.000000</td>\n",
       "      <td>1.000000</td>\n",
       "      <td>3.000000</td>\n",
       "      <td>8.000000</td>\n",
       "    </tr>\n",
       "    <tr>\n",
       "      <th>25%</th>\n",
       "      <td>1425.750000</td>\n",
       "      <td>7.326600e+04</td>\n",
       "      <td>5.000000</td>\n",
       "      <td>2.000000</td>\n",
       "      <td>95.000000</td>\n",
       "      <td>41.000000</td>\n",
       "    </tr>\n",
       "    <tr>\n",
       "      <th>50%</th>\n",
       "      <td>2892.500000</td>\n",
       "      <td>2.226950e+05</td>\n",
       "      <td>18.000000</td>\n",
       "      <td>4.000000</td>\n",
       "      <td>96.000000</td>\n",
       "      <td>41.000000</td>\n",
       "    </tr>\n",
       "    <tr>\n",
       "      <th>75%</th>\n",
       "      <td>4315.500000</td>\n",
       "      <td>4.009600e+05</td>\n",
       "      <td>29.000000</td>\n",
       "      <td>8.000000</td>\n",
       "      <td>107.000000</td>\n",
       "      <td>42.000000</td>\n",
       "    </tr>\n",
       "    <tr>\n",
       "      <th>max</th>\n",
       "      <td>5778.000000</td>\n",
       "      <td>2.676824e+06</td>\n",
       "      <td>45.000000</td>\n",
       "      <td>15.000000</td>\n",
       "      <td>199.000000</td>\n",
       "      <td>93.000000</td>\n",
       "    </tr>\n",
       "  </tbody>\n",
       "</table>\n",
       "</div>"
      ],
      "text/plain": [
       "        Unnamed: 0           uid            t            d            x  \\\n",
       "count  3000.000000  3.000000e+03  3000.000000  3000.000000  3000.000000   \n",
       "mean   2878.045667  5.851957e+05    18.107667     5.433667   109.519333   \n",
       "std    1669.239878  8.182638e+05    14.335035     4.052622    32.877418   \n",
       "min       1.000000  1.890000e+02     0.000000     1.000000     3.000000   \n",
       "25%    1425.750000  7.326600e+04     5.000000     2.000000    95.000000   \n",
       "50%    2892.500000  2.226950e+05    18.000000     4.000000    96.000000   \n",
       "75%    4315.500000  4.009600e+05    29.000000     8.000000   107.000000   \n",
       "max    5778.000000  2.676824e+06    45.000000    15.000000   199.000000   \n",
       "\n",
       "                 y  \n",
       "count  3000.000000  \n",
       "mean     41.626000  \n",
       "std      11.615784  \n",
       "min       8.000000  \n",
       "25%      41.000000  \n",
       "50%      41.000000  \n",
       "75%      42.000000  \n",
       "max      93.000000  "
      ]
     },
     "execution_count": 40,
     "metadata": {},
     "output_type": "execute_result"
    }
   ],
   "source": [
    "sampledf = pd.read_csv(\"train/sample_train_Alaska.csv\")\n",
    "sampledf.describe()"
   ]
  }
 ],
 "metadata": {
  "kernelspec": {
   "display_name": "lpbert",
   "language": "python",
   "name": "python3"
  },
  "language_info": {
   "codemirror_mode": {
    "name": "ipython",
    "version": 3
   },
   "file_extension": ".py",
   "mimetype": "text/x-python",
   "name": "python",
   "nbconvert_exporter": "python",
   "pygments_lexer": "ipython3",
   "version": "3.11.8"
  }
 },
 "nbformat": 4,
 "nbformat_minor": 2
}
