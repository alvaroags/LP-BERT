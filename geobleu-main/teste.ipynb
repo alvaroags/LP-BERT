{
 "cells": [
  {
   "cell_type": "code",
   "execution_count": 7,
   "metadata": {},
   "outputs": [
    {
     "data": {
      "text/plain": [
       "113"
      ]
     },
     "execution_count": 7,
     "metadata": {},
     "output_type": "execute_result"
    }
   ],
   "source": [
    "import pandas as pd\n",
    "\n",
    "# Carrega o arquivo CSV\n",
    "df = pd.read_csv('test_checkins_Nebraska.csv')\n",
    "\n",
    "# print(df)\n",
    "num_unique = df['uid'].nunique()\n",
    "\n",
    "num_unique"
   ]
  }
 ],
 "metadata": {
  "kernelspec": {
   "display_name": "lpbert",
   "language": "python",
   "name": "python3"
  },
  "language_info": {
   "codemirror_mode": {
    "name": "ipython",
    "version": 3
   },
   "file_extension": ".py",
   "mimetype": "text/x-python",
   "name": "python",
   "nbconvert_exporter": "python",
   "pygments_lexer": "ipython3",
   "version": "3.11.8"
  }
 },
 "nbformat": 4,
 "nbformat_minor": 2
}
